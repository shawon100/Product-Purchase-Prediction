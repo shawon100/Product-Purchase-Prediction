{
 "cells": [
  {
   "cell_type": "code",
   "execution_count": 1,
   "metadata": {
    "collapsed": true
   },
   "outputs": [],
   "source": [
    "#import\n",
    "import pandas as pd\n",
    "import numpy as np\n",
    "from sklearn import linear_model\n",
    "from sklearn import metrics\n",
    "from sklearn.model_selection import train_test_split\n",
    "%matplotlib inline \n",
    "from sklearn.utils import shuffle\n",
    "import matplotlib.pyplot as plt"
   ]
  },
  {
   "cell_type": "code",
   "execution_count": 36,
   "metadata": {},
   "outputs": [
    {
     "data": {
      "text/html": [
       "<div>\n",
       "<style>\n",
       "    .dataframe thead tr:only-child th {\n",
       "        text-align: right;\n",
       "    }\n",
       "\n",
       "    .dataframe thead th {\n",
       "        text-align: left;\n",
       "    }\n",
       "\n",
       "    .dataframe tbody tr th {\n",
       "        vertical-align: top;\n",
       "    }\n",
       "</style>\n",
       "<table border=\"1\" class=\"dataframe\">\n",
       "  <thead>\n",
       "    <tr style=\"text-align: right;\">\n",
       "      <th></th>\n",
       "      <th>User_ID</th>\n",
       "      <th>Gender</th>\n",
       "      <th>Age</th>\n",
       "      <th>Estimated</th>\n",
       "      <th>Purchased</th>\n",
       "    </tr>\n",
       "  </thead>\n",
       "  <tbody>\n",
       "    <tr>\n",
       "      <th>0</th>\n",
       "      <td>15624510</td>\n",
       "      <td>1</td>\n",
       "      <td>19</td>\n",
       "      <td>19000</td>\n",
       "      <td>0</td>\n",
       "    </tr>\n",
       "    <tr>\n",
       "      <th>1</th>\n",
       "      <td>15810944</td>\n",
       "      <td>1</td>\n",
       "      <td>35</td>\n",
       "      <td>20000</td>\n",
       "      <td>0</td>\n",
       "    </tr>\n",
       "    <tr>\n",
       "      <th>2</th>\n",
       "      <td>15668575</td>\n",
       "      <td>0</td>\n",
       "      <td>26</td>\n",
       "      <td>43000</td>\n",
       "      <td>0</td>\n",
       "    </tr>\n",
       "    <tr>\n",
       "      <th>3</th>\n",
       "      <td>15603246</td>\n",
       "      <td>0</td>\n",
       "      <td>27</td>\n",
       "      <td>57000</td>\n",
       "      <td>0</td>\n",
       "    </tr>\n",
       "    <tr>\n",
       "      <th>4</th>\n",
       "      <td>15804002</td>\n",
       "      <td>1</td>\n",
       "      <td>19</td>\n",
       "      <td>76000</td>\n",
       "      <td>0</td>\n",
       "    </tr>\n",
       "    <tr>\n",
       "      <th>5</th>\n",
       "      <td>15728773</td>\n",
       "      <td>1</td>\n",
       "      <td>27</td>\n",
       "      <td>58000</td>\n",
       "      <td>0</td>\n",
       "    </tr>\n",
       "    <tr>\n",
       "      <th>6</th>\n",
       "      <td>15598044</td>\n",
       "      <td>0</td>\n",
       "      <td>27</td>\n",
       "      <td>84000</td>\n",
       "      <td>0</td>\n",
       "    </tr>\n",
       "    <tr>\n",
       "      <th>7</th>\n",
       "      <td>15694829</td>\n",
       "      <td>0</td>\n",
       "      <td>32</td>\n",
       "      <td>150000</td>\n",
       "      <td>1</td>\n",
       "    </tr>\n",
       "    <tr>\n",
       "      <th>8</th>\n",
       "      <td>15600575</td>\n",
       "      <td>1</td>\n",
       "      <td>25</td>\n",
       "      <td>33000</td>\n",
       "      <td>0</td>\n",
       "    </tr>\n",
       "    <tr>\n",
       "      <th>9</th>\n",
       "      <td>15727311</td>\n",
       "      <td>0</td>\n",
       "      <td>35</td>\n",
       "      <td>65000</td>\n",
       "      <td>0</td>\n",
       "    </tr>\n",
       "  </tbody>\n",
       "</table>\n",
       "</div>"
      ],
      "text/plain": [
       "    User_ID  Gender  Age  Estimated  Purchased\n",
       "0  15624510       1   19      19000          0\n",
       "1  15810944       1   35      20000          0\n",
       "2  15668575       0   26      43000          0\n",
       "3  15603246       0   27      57000          0\n",
       "4  15804002       1   19      76000          0\n",
       "5  15728773       1   27      58000          0\n",
       "6  15598044       0   27      84000          0\n",
       "7  15694829       0   32     150000          1\n",
       "8  15600575       1   25      33000          0\n",
       "9  15727311       0   35      65000          0"
      ]
     },
     "execution_count": 36,
     "metadata": {},
     "output_type": "execute_result"
    }
   ],
   "source": [
    "names=['User_ID','Gender','Age','Estimated','Purchased']\n",
    "dataFrame=pd.read_csv('socialnetworkads.csv',names=names)\n",
    "dataFrame['Gender'] = (dataFrame['Gender'] == 'Male').astype(int)\n",
    "dataFrame.head(10)"
   ]
  },
  {
   "cell_type": "code",
   "execution_count": 37,
   "metadata": {},
   "outputs": [
    {
     "data": {
      "text/plain": [
       "<matplotlib.text.Text at 0xe55397b048>"
      ]
     },
     "execution_count": 37,
     "metadata": {},
     "output_type": "execute_result"
    },
    {
     "data": {
      "image/png": "[encoded data removed]",
      "text/plain": [
       "<matplotlib.figure.Figure at 0xe55373a898>"
      ]
     },
     "metadata": {},
     "output_type": "display_data"
    }
   ],
   "source": [
    "dataFrame.Purchased.value_counts().plot(figsize=(12,5),kind='bar',color='green');\n",
    "plt.xlabel('Purchased Status')\n",
    "plt.ylabel('Number of Customer')"
   ]
  },
  {
   "cell_type": "code",
   "execution_count": 39,
   "metadata": {},
   "outputs": [
    {
     "name": "stdout",
     "output_type": "stream",
     "text": [
      "[[15624510        1       19    19000]\n",
      " [15810944        1       35    20000]\n",
      " [15668575        0       26    43000]\n",
      " ..., \n",
      " [15654296        0       50    20000]\n",
      " [15755018        1       36    33000]\n",
      " [15594041        0       49    36000]]\n"
     ]
    }
   ],
   "source": [
    "X=np.array(dataFrame[names[:4]])\n",
    "print(X)"
   ]
  },
  {
   "cell_type": "code",
   "execution_count": 40,
   "metadata": {},
   "outputs": [
    {
     "name": "stdout",
     "output_type": "stream",
     "text": [
      "[0 0 0 0 0 0 0 1 0 0 0 0 0 0 0 0 1 1 1 1 1 1 1 1 1 1 1 1 0 0 0 1 0 0 0 0 0\n",
      " 0 0 0 0 0 0 0 0 0 0 0 1 0 0 0 0 0 0 0 0 0 0 0 0 0 0 1 0 0 0 0 0 0 0 0 0 0\n",
      " 0 1 0 0 0 0 0 0 0 0 0 1 0 0 0 0 0 0 0 0 0 0 0 1 0 0 0 0 0 1 0 0 0 0 0 0 0\n",
      " 0 0 0 0 0 0 0 0 0 0 0 0 0 0 0 0 0 0 0 0 0 0 0 0 0 0 1 0 0 0 0 0 0 0 0 1 0\n",
      " 0 0 0 0 0 0 0 0 0 0 0 1 1 0 0 0 0 0 0 0 1 0 0 0 0 0 0 0 0 0 0 0 0 0 1 0 0\n",
      " 0 0 0 0 0 0 0 0 0 0 0 0 0 0 0 0 0 1 0 1 0 1 0 1 0 1 1 0 0 0 1 0 0 0 1 0 1\n",
      " 1 1 0 0 1 1 0 1 1 0 1 1 0 1 0 0 0 1 1 0 1 1 0 1 0 1 0 1 0 0 1 1 0 1 0 0 1\n",
      " 1 0 1 1 0 1 1 0 0 1 0 0 1 1 1 1 1 0 1 1 1 1 0 1 1 0 1 0 1 0 1 1 1 1 0 0 0\n",
      " 1 1 0 1 1 1 1 1 0 0 0 1 1 0 0 1 0 1 0 1 1 0 1 0 1 1 0 1 1 0 0 0 1 1 0 1 0\n",
      " 0 1 0 1 0 0 1 1 0 0 1 1 0 1 1 0 0 1 0 1 0 1 1 1 0 1 0 1 1 1 0 1 1 1 1 0 1\n",
      " 1 1 0 1 0 1 0 0 1 1 0 1 1 1 1 1 1 0 1 1 1 1 1 1 0 1 1 1 0 1]\n"
     ]
    }
   ],
   "source": [
    "y=np.array(dataFrame[names[4]])\n",
    "print(y)"
   ]
  },
  {
   "cell_type": "code",
   "execution_count": 41,
   "metadata": {},
   "outputs": [
    {
     "name": "stdout",
     "output_type": "stream",
     "text": [
      "[[15570769        0       26    80000]\n",
      " [15715622        0       44   139000]\n",
      " [15793890        0       37    80000]\n",
      " [15738448        0       30    79000]\n",
      " [15776348        0       27    54000]\n",
      " [15753874        0       37    80000]\n",
      " [15614420        0       23    28000]\n",
      " [15768151        0       54   108000]\n",
      " [15689237        1       40    57000]\n",
      " [15596761        1       36   125000]\n",
      " [15646227        1       46    79000]\n",
      " [15704987        1       32    18000]\n",
      " [15735878        1       52   150000]\n",
      " [15766609        0       47    47000]\n",
      " [15584545        0       32    86000]\n",
      " [15779581        1       29    43000]\n",
      " [15724858        1       27    90000]\n",
      " [15617482        1       45    26000]\n",
      " [15775562        0       23    48000]\n",
      " [15775590        0       57   122000]\n",
      " [15727311        0       35    65000]\n",
      " [15668385        1       39    42000]\n",
      " [15762228        0       22    55000]\n",
      " [15809823        1       26    15000]\n",
      " [15709183        1       42    54000]\n",
      " [15694829        0       32   150000]\n",
      " [15810800        0       38    55000]\n",
      " [15575694        1       35    73000]\n",
      " [15707634        1       49    28000]\n",
      " [15587419        0       42    90000]\n",
      " [15644296        0       34    72000]\n",
      " [15694288        0       32   117000]\n",
      " [15814816        1       31    66000]\n",
      " [15800515        0       38   113000]\n",
      " [15697997        0       38    80000]\n",
      " [15586757        1       39   134000]\n",
      " [15722758        1       30    17000]\n",
      " [15665416        0       39    71000]\n",
      " [15813113        1       40   107000]\n",
      " [15791174        1       46    59000]\n",
      " [15709441        0       35    44000]\n",
      " [15811177        0       35    77000]\n",
      " [15749381        0       58    23000]\n",
      " [15611430        0       60    46000]\n",
      " [15753861        0       49   141000]\n",
      " [15591433        1       36    52000]\n",
      " [15601550        0       36    54000]\n",
      " [15583681        1       32   120000]\n",
      " [15694879        1       37   144000]\n",
      " [15680587        1       36   144000]\n",
      " [15628972        1       18    82000]\n",
      " [15778830        0       53    34000]\n",
      " [15569641        0       58    95000]\n",
      " [15602373        1       29    75000]\n",
      " [15674331        1       41    52000]\n",
      " [15624755        0       54    26000]\n",
      " [15794493        1       40    57000]\n",
      " [15673619        1       25    87000]\n",
      " [15671249        1       46    88000]\n",
      " [15646936        1       53    72000]\n",
      " [15778368        1       54    70000]\n",
      " [15573926        1       40    71000]\n",
      " [15672091        0       19    21000]\n",
      " [15663161        1       35    91000]\n",
      " [15748589        0       45    45000]\n",
      " [15741049        1       37    72000]\n",
      " [15800890        0       40   142000]\n",
      " [15609637        0       41    72000]\n",
      " [15810075        0       44    39000]\n",
      " [15581282        1       37    74000]\n",
      " [15795224        0       36   126000]\n",
      " [15637593        1       37    79000]\n",
      " [15736228        1       38    59000]\n",
      " [15705298        0       43   112000]\n",
      " [15578738        0       18    86000]\n",
      " [15664907        1       58   144000]\n",
      " [15755018        1       36    33000]\n",
      " [15639277        1       23    20000]\n",
      " [15708791        1       59   130000]\n",
      " [15744529        1       29    43000]\n",
      " [15786993        0       29    83000]\n",
      " [15636428        0       30   116000]\n",
      " [15682268        1       35    50000]\n",
      " [15639576        0       47   107000]\n",
      " [15792102        0       26    84000]\n",
      " [15715160        1       28    32000]\n",
      " [15744279        1       32   100000]\n",
      " [15611191        0       53    82000]\n",
      " [15684801        1       22    81000]\n",
      " [15624510        1       19    19000]\n",
      " [15801247        1       33    31000]\n",
      " [15668521        0       48    35000]\n",
      " [15713144        1       35    27000]\n",
      " [15592570        1       47    23000]\n",
      " [15577514        1       43   129000]\n",
      " [15680243        0       20    36000]\n",
      " [15594762        0       39    75000]\n",
      " [15733964        0       38    50000]\n",
      " [15581198        1       31    74000]\n",
      " [15667742        1       34    43000]\n",
      " [15796351        1       36   118000]\n",
      " [15663249        0       52    21000]\n",
      " [15671655        0       35    23000]\n",
      " [15779862        1       29    61000]\n",
      " [15733883        1       47    25000]\n",
      " [15711218        1       35    88000]\n",
      " [15575247        0       48   131000]\n",
      " [15669656        1       31    18000]\n",
      " [15595135        0       23    66000]\n",
      " [15793813        0       31    89000]\n",
      " [15595228        0       20    23000]\n",
      " [15600575        1       25    33000]\n",
      " [15649487        1       45    22000]\n",
      " [15705113        1       46    23000]\n",
      " [15573452        0       21    16000]\n",
      " [15749130        0       41    30000]\n",
      " [15646091        0       46    32000]\n",
      " [15773447        1       37    55000]\n",
      " [15596522        1       49    89000]\n",
      " [15794661        0       26   118000]]\n"
     ]
    }
   ],
   "source": [
    "X_train,X_test,y_train,y_test=train_test_split(X,y,test_size=0.3,random_state=20)\n",
    "X_train,y_train=shuffle(X_train,y_train)\n",
    "print(X_test)"
   ]
  },
  {
   "cell_type": "code",
   "execution_count": 45,
   "metadata": {},
   "outputs": [],
   "source": [
    "classifier=linear_model.LogisticRegression(multi_class='multinomial',solver='lbfgs').fit(X_train,y_train)"
   ]
  },
  {
   "cell_type": "code",
   "execution_count": 46,
   "metadata": {},
   "outputs": [
    {
     "name": "stdout",
     "output_type": "stream",
     "text": [
      "Bimodal Logistic Regression Train Accuracy =  0.764285714286\n",
      "Bimodal Logistic Regression Test Accuracy =  0.758333333333\n"
     ]
    }
   ],
   "source": [
    "print('Bimodal Logistic Regression Train Accuracy = ',metrics.accuracy_score(y_train,classifier.predict(X_train)))\n",
    "print('Bimodal Logistic Regression Test Accuracy = ',metrics.accuracy_score(y_test,classifier.predict(X_test)))"
   ]
  },
  {
   "cell_type": "code",
   "execution_count": 48,
   "metadata": {},
   "outputs": [
    {
     "name": "stdout",
     "output_type": "stream",
     "text": [
      "[15689237        1       40    57000]\n",
      "0\n"
     ]
    }
   ],
   "source": [
    "a=classifier.predict(X_test)\n",
    "print(X_test[8])\n",
    "print(a[8])"
   ]
  },
  {
   "cell_type": "code",
   "execution_count": null,
   "metadata": {
    "collapsed": true
   },
   "outputs": [],
   "source": []
  }
 ],
 "metadata": {
  "kernelspec": {
   "display_name": "Python 3",
   "language": "python",
   "name": "python3"
  },
  "language_info": {
   "codemirror_mode": {
    "name": "ipython",
    "version": 3
   },
   "file_extension": ".py",
   "mimetype": "text/x-python",
   "name": "python",
   "nbconvert_exporter": "python",
   "pygments_lexer": "ipython3",
   "version": "3.6.1"
  }
 },
 "nbformat": 4,
 "nbformat_minor": 2
}
